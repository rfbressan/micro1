{
    "cells": [
        {
            "cell_type": "markdown",
            "metadata": {},
            "source": [
                "# Oferta de Trabalho Intertemporal\n",
                "\n",
                "##  Modelo de dois períodos\n",
                "\n",
                "Considere a seguinte economia padrão de dois períodos $(t=0,1)$. Há um contínuo de agentes de medida $1$. Cada agente é dotado de uma unidade de tempo em cada período, que pode ser usada para lazer $l$ ou horas trabalhadas $h$. As preferências são sobre consumo $c$ e lazer $l$ e são representadas por:\n",
                "\n",
                "$$\n",
                "U=\\sum_{t=0}^{1} \\beta^{t}\\left(u\\left(c_{t}\\right)+\\gamma v\\left(l_{t}\\right)\\right), \\gamma>0 \\text { e } \\beta \\in(0,1)\n",
                "$$\n",
                "\n",
                "com $u(c)=\\frac{c^{1-\\sigma}-1}{1-\\sigma}$ e $v(l)=\\frac{l^{1-\\sigma}-1}{1-\\sigma}$ com $\\sigma>0$. \n",
                "\n",
                "Do lado da produção, há um contínuo de empresas de medida 1, cada uma com acesso a uma tecnologia para produzir o bem de consumo:\n",
                "\n",
                "$$\n",
                "Y_{t}=A_{t} L_{t}^{\\alpha}, A_{t}>0 \\text { e } \\alpha \\in(0,1)\n",
                "$$\n",
                "\n",
                "onde $Y_{t}$ é a produção, $L_{t}$ denota o insumo trabalho e $A_{t}$ é um fator de produtividade. Cada família tem direito a uma parcela igual dos dividendos das empresas. Suponha que existe um mercado de ativos em que os agentes podem negociar títulos de um período, de modo que as restrições orçamentárias possam ser escritas como:\n",
                "\n",
                "$c_{0}+a_{1}=w_{0} h_{0}+\\pi_{0}$ e $c_{1}=w_{1} h_{1}+(1+r) a_{1}+\\pi_{1}$, onde $\\pi_{t}$ são os lucros e são tomados como dado pelas famílias.\n"
            ]
        },
        {
            "cell_type": "markdown",
            "metadata": {},
            "source": [
                "Existem três requisitos para um equilíbrio competitivo, correspondentes a: \n",
                "\n",
                "1. As famílias maximizam a utilidade; \n",
                "2. as empresas maximizam seu lucro; \n",
                "3. os \"mercados se equilibram\" (_market clearing_) no preço de equilíbrio.\n",
                "\n",
                "Começamos com o problema das famílias, que é maximizar a utilidade sujeita a um orçamento.\n",
                "\n",
                "**Problema das Famílias**\n",
                "\n",
                "$$\n",
                "\\begin{align*}\n",
                "    \\max_{c_t,l_t,h_t,a_1}&U = u(c_0) + \\gamma v(l_0) + \\beta \\left[u(c_1) + \\beta \\gamma v(l_1)\\right]\\tag{HP}\\\\\n",
                "    s.t\\quad &c_0+a_1 = w_0h_0+\\pi_0\\\\\n",
                "    &c_1 = w_1h_1+\\pi_1+(1+r)a_1\\\\\n",
                "    &l_t+h_t=1\n",
                "\\end{align*} \n",
                "$$\n",
                "\n",
                "**Problema das Firmas**\n",
                "\n",
                "$$\n",
                "\\begin{align*}\n",
                "    \\max_{L_t}\\quad &\\pi_t = p_tA_tL_t^\\alpha - w_tL_t\\quad t=\\{0,1\\}\\tag{FP}\n",
                "\\end{align*}\n",
                "$$\n",
                "\n",
                "**Equilíbrio de Mercado**\n",
                "\n",
                "O consumo total mais a poupança deve ser igual à produção total mais o juro em um determinado período\n",
                "\n",
                "3.1 $c_0+a_1=Y_0$\n",
                "\n",
                "3.2 $c_1=(1+r)a_1+Y_1$\n",
                "\n",
                "e a oferta de trabalho corresponde à demanda\n",
                "\n",
                "3.3 $h_t=L_t$\n"
            ]
        },
        {
            "cell_type": "markdown",
            "metadata": {},
            "source": [
                "## Resolvendo o Modelo\n",
                "\n",
                "Vamos derivar as condições de primeira ordem do problema de cada agente e ir o mais longe possível na resolução das condições de equilíbrio de mercado."
            ]
        },
        {
            "cell_type": "markdown",
            "metadata": {},
            "source": [
                "### O Problema das Famílias\n",
                " \n",
                "As condições de primeira ordem (FOC) do problema das famílias são:\n",
                "$$\n",
                "\\begin{align*}\n",
                "    &\\mathcal{L} = u(c_0) + \\gamma v(l_0) + \\beta u(c_1) + \\beta\\gamma v(l_1) + \\lambda_0 [w_0 h_0 + \\pi_0 - c_0 - a_1] + \\lambda_1[w_1 h_1 + \\pi_1 + (1+r) a_1 - c_1]+\\lambda_2[1-l_0-h_0]+\\lambda_3[1-l_1-h_1]\\\\\n",
                "    &c_0: u'(c_0) - \\lambda_0 = 0\\\\\n",
                "    &c_1: \\beta u'(c_1) - \\lambda_1= 0\\\\\n",
                "    &l_0: \\gamma v'(l_0) - \\lambda_2 = 0\\\\\n",
                "    &l_1: \\beta\\gamma v'(l_1) - \\lambda_3 = 0\\\\\n",
                "    &h_0: \\lambda_0 w_0 - \\lambda_2 = 0\\\\\n",
                "    &h_1: \\lambda_1 w_1 - \\lambda_3 = 0\\\\\n",
                "    &a_1: -\\lambda_0 + \\lambda_1(1+r) = 0\n",
                "\\end{align*}\n",
                "$$\n",
                "\n",
                "E não nos esqueçamos das restrições do problema HP que também fazem parte do sistema de equações a ser resolvido."
            ]
        },
        {
            "cell_type": "markdown",
            "metadata": {},
            "source": [
                "Resolvendo essas equações, chegamos à **equação de Euler** e a equação de **substituição intertemporal da oferta de trabalho** que caracterizam o problema.\n",
                "\n",
                "$$\n",
                "\\begin{equation*}\n",
                "\\left. \\begin{aligned}\n",
                "u'(c_0)=\\gamma\\frac{v'(1-h_0)}{w_0}\\\\\n",
                "u'(c_1)=\\gamma\\frac{v'(1-h_1)}{w_1}\n",
                "\\end{aligned}\n",
                "\\right\\rbrace \\implies u'(c_0)=\\beta(1+r)u'(c_1)\\qquad\\text{Equação de Euler}\n",
                "\\end{equation*}\n",
                "$$\n",
                "\n",
                "$$\n",
                "\\begin{equation*}\n",
                "v'(1-h_0) w_1 = \\beta(1+r) v'(1-h_1)w_0 \\qquad\\text{Substituição intertemporal da oferta de trabalho}\n",
                "\\end{equation*}\n",
                "$$\n",
                "\n",
                "Temos então 5 variáveis endógenas oriundas do problema das famílias: $c_0$, $c_1$, $h_0$, $h_1$ e $a_1$, sendo que temos 5 equações: \n",
                "\n",
                "$$\n",
                "\\begin{align}\n",
                "c_0&=w_0h_0+\\pi_0-a_1\\\\\n",
                "c_1&=[(1+r)\\beta]^{1/\\sigma}c_0\\\\\n",
                "h_0&=1-(\\gamma/w_0)^{1/\\sigma}c_0\\\\\n",
                "h_1&=1-(\\gamma/w_1)^{1/\\sigma}c_1\\\\\n",
                "a1&=(c1-w_1h_1-\\pi_1)/(1+r)\\\\\n",
                "\\end{align}\n",
                "$$\n",
                "\n",
                "Esse sistema pode ser resolvido escrevendo todas as variáveis endógenas, $c_1$, $h_0$, $h_1$ e $a_1$ em função de $c_0$ e considerando que as famílias tomam como dado os salários e lucros distribuídos, $w_t$ e $\\pi_t$. Basta então substituir recursivamente para encontrar todas as outras variáveis endógenas. **Ou, como faremos neste exercício, podemos utilizar métodos numéricos para encontrar as soluções.**"
            ]
        },
        {
            "cell_type": "markdown",
            "metadata": {},
            "source": [
                "### O Problema das Firmas\n",
                "\n",
                "A condição de primeira ordem para FP é:\n",
                "\n",
                "$$\n",
                "\\begin{equation}\n",
                "\\frac{w_t}{p_t} = \\alpha A_t L_t^{\\alpha-1}  \\quad t=\\{0,1\\}\n",
                "\\end{equation}\n",
                "$$\n",
                "\n",
                "Aqui podemos ver que o FP é estático e estamos assumindo que as empresas são tomadoras de preço em qualquer período. Além disso, como há apenas um bem nesta economia, ele será o numerário, portanto $p_t=1, \\forall t$. Logo, os salários reais são dados pela produtividade marginal do trabalho. Esta expressão para os salários pode ser substituída novamente na função lucro para encontrarmos a relação:\n",
                "\n",
                "$$\n",
                "\\begin{equation}\n",
                "\\pi_t=(1-\\alpha)A_tL_t^{\\alpha}.\n",
                "\\end{equation}\n",
                "$$"
            ]
        },
        {
            "cell_type": "markdown",
            "metadata": {},
            "source": [
                "### Equilíbrio de Mercado\n",
                "\n",
                "Finalmente, o equilíbrio de mercado implica em outras três condições: i) a demanda por trabalho é igual à oferta de trabalho, ii) o consumo mais poupança é igual a produção no período 0, e iii) o consumo no período 1 é igual a produção no período 1 mais a poupança do período 0 acrescida da renda do capital. Essas condições são expressas pelas seguintes equações:\n",
                " \n",
                "$$\n",
                "\\begin{align}\n",
                "    &h_t=L_t\\\\\n",
                "    &c_0+a_1=A_0 L_0^\\alpha\\\\\n",
                "    &c_1=(1+r)a_1 + A_1 L_1^\\alpha\\\\\n",
                "\\end{align}\n",
                "$$"
            ]
        },
        {
            "cell_type": "markdown",
            "metadata": {},
            "source": [
                "## Simulando o Equilíbrio\n",
                "\n",
                "Agora, deixe $A_{0}=1, A_{1}=1, \\alpha=2 / 3, \\sigma=2, \\beta=0.98^{25}$ (taxa de desconto subjetiva de $2 \\%$ ao ano, sendo um período do modelo equivalente a 25 anos) e $\\gamma=1 .$ \n",
                "\n",
                "Iremos encontrar todas as alocações (consumo, trabalho e ativos), os preços $\\left(w_{0}, w_{1}\\right)$ e os lucros $\\left(\\pi_0, \\pi_1\\right)$ para esta economia. Precisaremos fazer isso **numericamente**, ou seja, através da solução do sistema de equações não-lineares utilizando programação."
            ]
        },
        {
            "cell_type": "markdown",
            "metadata": {},
            "source": [
                "Utilizando as 5 equação do HP, 4 do FP e as 3 condições de equilíbrio, após mais algumas manipulações algébricas chegamos em um total de 9 equações não lineares que o equilíbrio deve satisfazer. Neste modelo a **taxa de juros, $r$, é exógena** (imagine que as famílias tem acesso a um grande mercado internacional de fundos), portanto, temos 9 variáveis endógenas e o mesmo número de equações para resolver o sistema. As variáveis endógenas são: $c_0, c_1, h_0, h_1, a_1, w_0, w_1, \\pi_0, \\pi_1$, enquanto os parâmetros exógenos são: $\\alpha, \\beta, \\gamma, \\sigma, r, A_0, A_1$."
            ]
        },
        {
            "cell_type": "markdown",
            "metadata": {},
            "source": [
                "As 9 equações que esta economia deve satisfazer são:\n",
                "\n",
                "$$\n",
                "\\begin{align}\n",
                "c_0&=w_0h_0+\\pi_0-a_1\\\\\n",
                "c_1&=[(1+r)\\beta]^{1/\\sigma}c_0\\\\\n",
                "h_0&=1-(\\gamma/w_0)^{1/\\sigma}c_0\\\\\n",
                "h_1&=1-(\\gamma/w_1)^{1/\\sigma}c_1\\\\\n",
                "a1&=(c1-w_1h_1-\\pi_1)/(1+r)\\\\\n",
                "w_0&=\\alpha A_0 h_0^{\\alpha-1}\\\\\n",
                "w_1&=\\alpha A_1 h_1^{\\alpha-1}\\\\\n",
                "\\pi_0&=(1-\\alpha)A_0h_0^\\alpha\\\\\n",
                "\\pi_1&=(1-\\alpha)A_1h_1^\\alpha\n",
                "\\end{align}\n",
                "$$"
            ]
        },
        {
            "cell_type": "markdown",
            "metadata": {},
            "source": [
                "### Programa em Python"
            ]
        },
        {
            "cell_type": "code",
            "execution_count": 28,
            "metadata": {},
            "outputs": [],
            "source": [
                "import numpy as np\n",
                "from pprint import pprint # pretty print para visualizar melhor os dicionários\n",
                "from scipy.optimize import root\n",
                "from termcolor import colored"
            ]
        },
        {
            "cell_type": "code",
            "execution_count": 29,
            "metadata": {},
            "outputs": [],
            "source": [
                "class twop_economy():\n",
                "    \n",
                "    def __init__(self, A0, A1, alpha, sigma, beta, gamma, r, tol=1e-4) -> None:\n",
                "        self.A0 = A0 \n",
                "        self.A1 = A1 \n",
                "        self.alpha = alpha \n",
                "        self.sigma = sigma\n",
                "        self.beta = beta\n",
                "        self.gamma = gamma\n",
                "        self.r = r\n",
                "        self.tol = tol\n",
                "        self.eq = None # Equilibrium values\n",
                "    \n",
                "    # Métodos para calcular as funções de utilidade e seus gradientes\n",
                "    def u(self, c):\n",
                "        return (c**(1-self.sigma)-1)/(1-self.sigma)\n",
                "    \n",
                "    def v(self, l):\n",
                "        return (l**(1-self.sigma)-1)/(1-self.sigma)\n",
                "    \n",
                "    def du(self, c):\n",
                "        return c**(-self.sigma)\n",
                "    \n",
                "    def dv(self, l):\n",
                "        return l**(-self.sigma)\n",
                "    \n",
                "    # Método de resolução do equilíbrio\n",
                "    def solve_eq(self, x0) -> None:\n",
                "        \"\"\"_Resolve o sistema de equações não lineares do modelo. A solução é armazenada no atributo eq_\n",
                "\n",
                "        :param x0: _Estimativa inicial para as variáveis do modelo. Ordem das variáveis para x0 deve ser: c0, c1, h0, h1, a1, w0, w1, pi0, pi1_\n",
                "        :type x0: _array_\n",
                "        \"\"\"\n",
                "        def obj_fun(x):\n",
                "            F = np.empty(9)\n",
                "            c0, c1, h0, h1, a1, w0, w1, pi0, pi1 = x\n",
                "            # Solving the system of nonlinear equations\n",
                "            F = np.array([\n",
                "                        #################################################\n",
                "                        # Using one equation for each endogenous variable\n",
                "                        c0 - (w0*h0+pi0-a1),\n",
                "                        c1 - (((1+self.r)*self.beta)**(1/self.sigma)*c0),\n",
                "                        h0 - (1-(self.gamma/w0)**(1/self.sigma)*c0),\n",
                "                        h1 - (1-(self.gamma/w1)**(1/self.sigma)*c1),\n",
                "                        a1 - (c1-w1*h1-pi1)/(1+self.r),\n",
                "                        w0 - (self.alpha*self.A0*(h0)**(self.alpha-1)),\n",
                "                        w1 - (self.alpha*self.A1*(h1)**(self.alpha-1)),\n",
                "                        pi0 - ((1-self.alpha)*self.A0*(h0)**self.alpha),\n",
                "                        pi1 - ((1-self.alpha)*self.A1*(h1)**self.alpha)\n",
                "                        ])\n",
                "            return F\n",
                "        \n",
                "        self.eq = root(obj_fun, x0, method='hybr')\n",
                "    \n",
                "    # Método para checar as restrições do equilíbrio\n",
                "    def check_constraints(self) -> None:\n",
                "        c0, c1, h0, h1, a1, w0, w1, pi0, pi1 = self.eq.x\n",
                "        print(colored(\"Checando o Equilíbrio!\", \"blue\"))\n",
                "        print(f\"Equação de Euler: {abs(self.du(c0)-(1+self.r)*self.beta*self.du(c1)) < self.tol}\")\n",
                "        print(f\"Restrição Orçamentária t0: {abs(c0+a1-w0*h0-pi0 < self.tol)}\")\n",
                "        print(f\"Restrição Orçamentária t1: {abs(c1-w1*h1-(1+self.r)*a1 - pi1 < self.tol)}\")"
            ]
        },
        {
            "cell_type": "markdown",
            "metadata": {},
            "source": [
                "Agora que temos o programa feito, vamos executá-lo com os parâmetros definidos anteriormente."
            ]
        },
        {
            "cell_type": "code",
            "execution_count": 30,
            "metadata": {},
            "outputs": [
                {
                    "name": "stdout",
                    "output_type": "stream",
                    "text": [
                        "\u001b[32mAlgoritmo convergiu? True\u001b[0m\n",
                        "\u001b[36mResultado do Equilíbrio:\u001b[0m\n",
                        "{   'a1': 0.08653783165675656,\n",
                        "    'c0': 0.506067279610891,\n",
                        "    'c1': 0.7234365436457177,\n",
                        "    'h0': 0.456192445867716,\n",
                        "    'h1': 0.2823523037514032,\n",
                        "    'pi0': 0.19753503708937253,\n",
                        "    'pi1': 0.14346290994987504,\n",
                        "    'w0': 0.8660162564198662,\n",
                        "    'w1': 1.0161979061983475}\n",
                        "\n",
                        "\n",
                        "\u001b[34mChecando o Equilíbrio!\u001b[0m\n",
                        "Equação de Euler: True\n",
                        "Restrição Orçamentária t0: True\n",
                        "Restrição Orçamentária t1: True\n"
                    ]
                }
            ],
            "source": [
                "parameters = {\n",
                "    'A0':1, 'A1':1, 'alpha': 2/3, 'sigma': 2, 'beta': 0.98**25, 'gamma': 1, 'r': 1.05**25-1\n",
                "    }\n",
                "\n",
                "# Instanciando a economia com os parâmetros definidos\n",
                "econ = twop_economy(**parameters)\n",
                "# Definindo a estimativa inicial\n",
                "# Ordem para x0: c0, c1, h0, h1, a1, w0, w1, pi0, pi1\n",
                "x0 = np.array([0.5, 0.9, 0.5, 0.5, 0.2, 0.9, 0.9, 0.5, 0.5])\n",
                "# Calcula o equilíbrio\n",
                "econ.solve_eq(x0)\n",
                "# Verificando se o algoritmo convergiu\n",
                "print(colored(f\"Algoritmo convergiu? {econ.eq.success}\", \"green\"))\n",
                "print(colored(\"Resultado do Equilíbrio:\", \"cyan\"))\n",
                "result = dict(zip([\"c0\", \"c1\", \"h0\", \"h1\", \"a1\", \"w0\", \"w1\", \"pi0\", \"pi1\"], econ.eq.x))\n",
                "# print(\"\\n\")\n",
                "pprint(result, indent=4)\n",
                "print(\"\\n\")\n",
                "# Checando as restrições\n",
                "econ.check_constraints()"
            ]
        },
        {
            "cell_type": "markdown",
            "metadata": {},
            "source": [
                "Deixe $A_0$​ diminuir de 1 para 0.90 e mantenha o valor de todos os outros parâmetros como antes. Refaça todos os seus cálculos e comente seus resultados."
            ]
        },
        {
            "cell_type": "code",
            "execution_count": 31,
            "metadata": {},
            "outputs": [
                {
                    "name": "stdout",
                    "output_type": "stream",
                    "text": [
                        "{   'a1': 0.06344992939885682,\n",
                        "    'c0': 0.474224150763333,\n",
                        "    'c1': 0.67791594984235,\n",
                        "    'h0': 0.46175848762507804,\n",
                        "    'h1': 0.31509724168732817,\n",
                        "    'pi0': 0.1792246933729288,\n",
                        "    'pi1': 0.1543506560384243,\n",
                        "    'w0': 0.7762702719270494,\n",
                        "    'w1': 0.979701726926152}\n"
                    ]
                }
            ],
            "source": [
                "parameters[\"A0\"] = 0.9\n",
                "econd = twop_economy(**parameters)\n",
                "econd.solve_eq(x0)\n",
                "resultd = dict(zip([\"c0\", \"c1\", \"h0\", \"h1\", \"a1\", \"w0\", \"w1\", \"pi0\", \"pi1\"], econd.eq.x))\n",
                "pprint(resultd, indent=4)"
            ]
        },
        {
            "cell_type": "markdown",
            "metadata": {},
            "source": [
                "A redução da produtividade no período t=0 faz com que o salário nesse período caia, o que por sua vez aumenta a oferta de trabalho para compensar o consumo, embora não compense completamente. A poupança também é reduzida. No período t=1, o salário e o consumo são reduzidos, mesmo que a oferta de trabalho e o lucro sejam maiores."
            ]
        },
        {
            "cell_type": "markdown",
            "metadata": {},
            "source": [
                "Agora, deixe $A_1$​ diminuir de 1 para 0.90 e retorne $A_0$​ ao seu valor original. Mantenha o valor de todos os outros parâmetros como antes. Refaça todos os seus cálculos e comente seus resultados."
            ]
        },
        {
            "cell_type": "code",
            "execution_count": 32,
            "metadata": {},
            "outputs": [
                {
                    "name": "stdout",
                    "output_type": "stream",
                    "text": [
                        "{   'a1': 0.10087542783698347,\n",
                        "    'c0': 0.4979997498073686,\n",
                        "    'c1': 0.7119037966929674,\n",
                        "    'h0': 0.4634516887900684,\n",
                        "    'h1': 0.2639207137291082,\n",
                        "    'pi0': 0.19962505921324936,\n",
                        "    'pi1': 0.1234345976670139,\n",
                        "    'w0': 0.8614708460446086,\n",
                        "    'w1': 0.9353915128952682}\n"
                    ]
                }
            ],
            "source": [
                "parameters[\"A1\"] = 0.9\n",
                "parameters[\"A0\"] = 1.0\n",
                "econe = twop_economy(**parameters)\n",
                "econe.solve_eq(x0)\n",
                "resulte = dict(zip([\"c0\", \"c1\", \"h0\", \"h1\", \"a1\", \"w0\", \"w1\", \"pi0\", \"pi1\"], econe.eq.x))\n",
                "pprint(resulte, indent=4)"
            ]
        },
        {
            "cell_type": "markdown",
            "metadata": {},
            "source": [
                "## Tarefa\n",
                "\n",
                "Agora retorne $A_1$ igual a 1 e faça $\\sigma = 1.5$ e resolva o novo equilíbrio. Compare os resultados com o equilíbrio inicial. O parâmetro $\\sigma$ é uma medida de aversão ao risco no consumo futuro. Valores maiores de $\\sigma$ indicam maior aversão ao risco. O que acontece com o consumo e a poupança quando reduzimos a aversão ao risco de 2 para 1.5?"
            ]
        },
        {
            "cell_type": "code",
            "execution_count": 33,
            "metadata": {},
            "outputs": [
                {
                    "name": "stdout",
                    "output_type": "stream",
                    "text": [
                        "{   'A0': 1.0,\n",
                        "    'A1': 1,\n",
                        "    'alpha': 0.6666666666666666,\n",
                        "    'beta': 0.6034647297788966,\n",
                        "    'gamma': 1,\n",
                        "    'r': 2.3863549408993885,\n",
                        "    'sigma': 1.5}\n",
                        "\u001b[34mEquilíbrio Original:\u001b[0m\n",
                        "{   'a1': 0.08653783165675656,\n",
                        "    'c0': 0.506067279610891,\n",
                        "    'c1': 0.7234365436457177,\n",
                        "    'h0': 0.456192445867716,\n",
                        "    'h1': 0.2823523037514032,\n",
                        "    'pi0': 0.19753503708937253,\n",
                        "    'pi1': 0.14346290994987504,\n",
                        "    'w0': 0.8660162564198662,\n",
                        "    'w1': 1.0161979061983475}\n",
                        "\u001b[31mMenor Aversão:\u001b[0m\n",
                        "{   'a1': 0.11402786716152827,\n",
                        "    'c0': 0.4852473270094831,\n",
                        "    'c1': 0.781422774336688,\n",
                        "    'h0': 0.4639161076571212,\n",
                        "    'h1': 0.2485213817042843,\n",
                        "    'pi0': 0.19975839805767384,\n",
                        "    'pi1': 0.13176131432993587,\n",
                        "    'w0': 0.8611832818908698,\n",
                        "    'w1': 1.0603619970559635}\n"
                    ]
                }
            ],
            "source": [
                "#| include: false\n",
                "\n",
                "parameters[\"A1\"] = 1 \n",
                "parameters[\"sigma\"] = 1.5\n",
                "\n",
                "pprint(parameters, indent = 4)\n",
                "\n",
                "econf = twop_economy(**parameters)\n",
                "econf.solve_eq(x0)\n",
                "resultf = dict(zip([\"c0\", \"c1\", \"h0\", \"h1\", \"a1\", \"w0\", \"w1\", \"pi0\", \"pi1\"], econf.eq.x))\n",
                "print(colored(\"Equilíbrio Original:\", \"blue\"))\n",
                "pprint(result, indent=4)             \n",
                "print(colored(\"Menor Aversão:\", \"red\"))\n",
                "pprint(resultf, indent=4)\n"
            ]
        }
    ],
    "metadata": {
        "interpreter": {
            "hash": "5269626eba0645a58271900a4a4adb7b95cd8d0957f8ef63693b10e38aacf359"
        },
        "kernelspec": {
            "display_name": "Python 3.9.6 64-bit ('macro3': conda)",
            "name": "python3"
        },
        "language_info": {
            "codemirror_mode": {
                "name": "ipython",
                "version": 3
            },
            "file_extension": ".py",
            "mimetype": "text/x-python",
            "name": "python",
            "nbconvert_exporter": "python",
            "pygments_lexer": "ipython3",
            "version": "3.9.16"
        },
        "orig_nbformat": 4
    },
    "nbformat": 4,
    "nbformat_minor": 2
}
